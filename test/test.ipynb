{
 "cells": [
  {
   "cell_type": "code",
   "execution_count": 1,
   "id": "34a966f1",
   "metadata": {},
   "outputs": [],
   "source": [
    "import os\n",
    "import sys\n",
    "import struct\n",
    "import numpy as np\n",
    "sys.path.append('../')\n",
    "\n",
    "import BUSlib as bus\n",
    "\n",
    "%load_ext autoreload\n",
    "%autoreload 2"
   ]
  },
  {
   "cell_type": "code",
   "execution_count": 2,
   "id": "564d4707",
   "metadata": {
    "scrolled": false
   },
   "outputs": [],
   "source": [
    "#read a bus file\n",
    "data = bus.BUSFIle.read('./output.s.bus')"
   ]
  },
  {
   "cell_type": "code",
   "execution_count": 3,
   "id": "575cd34b",
   "metadata": {},
   "outputs": [
    {
     "name": "stdout",
     "output_type": "stream",
     "text": [
      "b'BUS file produced by kallisto'\n",
      "BUS file version is 1\n"
     ]
    },
    {
     "data": {
      "text/plain": [
       "[(83898, 10, 1, 3245),\n",
       " (380513, 4, 1, 9148),\n",
       " (380513, 10, 4, 8381),\n",
       " (380513, 16, 1, 8552),\n",
       " (564316, 15, 1, 9896),\n",
       " (717318, 11, 1, 1192),\n",
       " (717318, 13, 1, 814)]"
      ]
     },
     "execution_count": 3,
     "metadata": {},
     "output_type": "execute_result"
    }
   ],
   "source": [
    "# print the header data\n",
    "print(data.text)\n",
    "print('BUS file version is {}'.format(data.version))\n",
    "# barcode group data\n",
    "data.bcd[24684828]"
   ]
  },
  {
   "cell_type": "code",
   "execution_count": 4,
   "id": "630fba13",
   "metadata": {},
   "outputs": [],
   "source": [
    "# change the header and write to new file\n",
    "data.text = 'This is a test BUS file generated with pyscBUS'\n",
    "data.write('./test_out.bus')"
   ]
  },
  {
   "cell_type": "code",
   "execution_count": 5,
   "id": "fc44a513",
   "metadata": {},
   "outputs": [],
   "source": [
    "#read the new bus file\n",
    "data2 = bus.BUSFIle.read('./test_out.bus')"
   ]
  },
  {
   "cell_type": "code",
   "execution_count": 6,
   "id": "e21e9c7d",
   "metadata": {},
   "outputs": [
    {
     "name": "stdout",
     "output_type": "stream",
     "text": [
      "This is a test BUS file generated with pyscBUS\n",
      "BUS file version is 1\n"
     ]
    },
    {
     "data": {
      "text/plain": [
       "[(83898, 10, 1, 3245),\n",
       " (380513, 4, 1, 9148),\n",
       " (380513, 10, 4, 8381),\n",
       " (380513, 16, 1, 8552),\n",
       " (564316, 15, 1, 9896),\n",
       " (717318, 11, 1, 1192),\n",
       " (717318, 13, 1, 814)]"
      ]
     },
     "execution_count": 6,
     "metadata": {},
     "output_type": "execute_result"
    }
   ],
   "source": [
    "# print the header data\n",
    "print(data.text)\n",
    "print('BUS file version is {}'.format(data.version))\n",
    "\n",
    "# barcode group data in the new file\n",
    "data2.bcd[24684828]"
   ]
  },
  {
   "cell_type": "code",
   "execution_count": 7,
   "id": "8b07a59d",
   "metadata": {},
   "outputs": [
    {
     "data": {
      "text/plain": [
       "True"
      ]
     },
     "execution_count": 7,
     "metadata": {},
     "output_type": "execute_result"
    }
   ],
   "source": [
    "# barcode group data are the same\n",
    "data.bcd == data2.bcd"
   ]
  },
  {
   "cell_type": "code",
   "execution_count": null,
   "id": "b1a045c4",
   "metadata": {},
   "outputs": [],
   "source": []
  }
 ],
 "metadata": {
  "kernelspec": {
   "display_name": "Python 3 (ipykernel)",
   "language": "python",
   "name": "python3"
  },
  "language_info": {
   "codemirror_mode": {
    "name": "ipython",
    "version": 3
   },
   "file_extension": ".py",
   "mimetype": "text/x-python",
   "name": "python",
   "nbconvert_exporter": "python",
   "pygments_lexer": "ipython3",
   "version": "3.9.12"
  }
 },
 "nbformat": 4,
 "nbformat_minor": 5
}
